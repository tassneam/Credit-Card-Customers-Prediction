{
 "cells": [
  {
   "cell_type": "code",
   "execution_count": 47,
   "id": "478856e2",
   "metadata": {},
   "outputs": [],
   "source": [
    "\n",
    "#Importing Libraries\n",
    "import pandas as pd\n",
    "import matplotlib.pyplot as plt\n",
    "#Import Label encoder Library\n",
    "from sklearn import preprocessing\n",
    "#Import feature selection Library\n",
    "#import statsmodels.api as sm\n",
    "#Import the train test split Library from sklearn\n",
    "from sklearn.model_selection import train_test_split\n",
    "#Import the metrixs for evaluating the model performance\n",
    "from sklearn.metrics import classification_report\n",
    "#scaling\n",
    "from sklearn.preprocessing import StandardScaler\n",
    "from sklearn.metrics import confusion_matrix\n",
    "from sklearn.metrics import f1_score\n",
    "import numpy as np\n",
    "from sklearn.metrics import accuracy_score\n",
    "from sklearn.metrics import recall_score\n",
    "from sklearn.metrics import precision_score\n",
    "from sklearn.metrics import roc_curve\n",
    "from sklearn.metrics import auc\n",
    "from sklearn.svm import SVC\n",
    "from sklearn.model_selection import learning_curve\n",
    "import seaborn as sns\n",
    "from sklearn.neural_network import MLPClassifier\n"
   ]
  },
  {
   "cell_type": "code",
   "execution_count": 48,
   "id": "1845499e",
   "metadata": {},
   "outputs": [
    {
     "name": "stdout",
     "output_type": "stream",
     "text": [
      "<class 'pandas.core.frame.DataFrame'>\n",
      "RangeIndex: 2998 entries, 0 to 2997\n",
      "Data columns (total 23 columns):\n",
      " #   Column                    Non-Null Count  Dtype  \n",
      "---  ------                    --------------  -----  \n",
      " 0   CLIENTNUM                 2998 non-null   int64  \n",
      " 1   Attrition_Flag            2998 non-null   object \n",
      " 2   Customer_Age              2998 non-null   int64  \n",
      " 3   Gender                    2998 non-null   object \n",
      " 4   Dependent_count           2998 non-null   int64  \n",
      " 5   Education_Level           2998 non-null   object \n",
      " 6   Marital_Status            2998 non-null   object \n",
      " 7   Income_Category           2998 non-null   object \n",
      " 8   Card_Category             2998 non-null   object \n",
      " 9   Months_on_book            2998 non-null   int64  \n",
      " 10  Total_Relationship_Count  2998 non-null   int64  \n",
      " 11  Months_Inactive_12_mon    2998 non-null   int64  \n",
      " 12  Contacts_Count_12_mon     2998 non-null   int64  \n",
      " 13  Credit_Limit              2998 non-null   float64\n",
      " 14  Total_Revolving_Bal       2998 non-null   int64  \n",
      " 15  Avg_Open_To_Buy           2998 non-null   float64\n",
      " 16  Total_Amt_Chng_Q4_Q1      2998 non-null   float64\n",
      " 17  Total_Trans_Amt           2998 non-null   int64  \n",
      " 18  Total_Trans_Ct            2998 non-null   int64  \n",
      " 19  Total_Ct_Chng_Q4_Q1       2998 non-null   float64\n",
      " 20  Avg_Utilization_Ratio     2998 non-null   float64\n",
      " 21  Naive_Bayes_Classifier    2998 non-null   float64\n",
      " 22  classification            2998 non-null   bool   \n",
      "dtypes: bool(1), float64(6), int64(10), object(6)\n",
      "memory usage: 518.3+ KB\n"
     ]
    }
   ],
   "source": [
    "dataset = pd.read_csv (\"BankChurners.csv\")\n",
    "\n",
    "#dataset.columns.values[-1] = 'classification'\n",
    "dataset\n",
    "\n",
    "#cleaning\n",
    "#if any coloumn has null value\n",
    "dataset.isna().sum()\n",
    "\n",
    "#if we have duplicated rows (boolean)\n",
    "dataset.duplicated().any()\n",
    "\n",
    "#one hot/label encoding\n",
    "#categorial(object) to numerical\n",
    "dataset.info()\n"
   ]
  },
  {
   "cell_type": "code",
   "execution_count": 49,
   "id": "26342122",
   "metadata": {},
   "outputs": [
    {
     "data": {
      "text/html": [
       "<div>\n",
       "<style scoped>\n",
       "    .dataframe tbody tr th:only-of-type {\n",
       "        vertical-align: middle;\n",
       "    }\n",
       "\n",
       "    .dataframe tbody tr th {\n",
       "        vertical-align: top;\n",
       "    }\n",
       "\n",
       "    .dataframe thead th {\n",
       "        text-align: right;\n",
       "    }\n",
       "</style>\n",
       "<table border=\"1\" class=\"dataframe\">\n",
       "  <thead>\n",
       "    <tr style=\"text-align: right;\">\n",
       "      <th></th>\n",
       "      <th>CLIENTNUM</th>\n",
       "      <th>Customer_Age</th>\n",
       "      <th>Dependent_count</th>\n",
       "      <th>Months_on_book</th>\n",
       "      <th>Total_Relationship_Count</th>\n",
       "      <th>Months_Inactive_12_mon</th>\n",
       "      <th>Contacts_Count_12_mon</th>\n",
       "      <th>Credit_Limit</th>\n",
       "      <th>Total_Revolving_Bal</th>\n",
       "      <th>Avg_Open_To_Buy</th>\n",
       "      <th>...</th>\n",
       "      <th>Total_Ct_Chng_Q4_Q1</th>\n",
       "      <th>Avg_Utilization_Ratio</th>\n",
       "      <th>Naive_Bayes_Classifier</th>\n",
       "      <th>Attrition_Flag</th>\n",
       "      <th>Gender</th>\n",
       "      <th>Education_Level</th>\n",
       "      <th>Marital_Status</th>\n",
       "      <th>Income_Category</th>\n",
       "      <th>Card_Category</th>\n",
       "      <th>classification</th>\n",
       "    </tr>\n",
       "  </thead>\n",
       "  <tbody>\n",
       "    <tr>\n",
       "      <th>0</th>\n",
       "      <td>768805383</td>\n",
       "      <td>45</td>\n",
       "      <td>3</td>\n",
       "      <td>39</td>\n",
       "      <td>5</td>\n",
       "      <td>1</td>\n",
       "      <td>3</td>\n",
       "      <td>12691.0</td>\n",
       "      <td>777</td>\n",
       "      <td>11914.0</td>\n",
       "      <td>...</td>\n",
       "      <td>1.625</td>\n",
       "      <td>0.061</td>\n",
       "      <td>0.000093</td>\n",
       "      <td>1</td>\n",
       "      <td>1</td>\n",
       "      <td>3</td>\n",
       "      <td>1</td>\n",
       "      <td>2</td>\n",
       "      <td>0</td>\n",
       "      <td>1</td>\n",
       "    </tr>\n",
       "    <tr>\n",
       "      <th>1</th>\n",
       "      <td>818770008</td>\n",
       "      <td>49</td>\n",
       "      <td>5</td>\n",
       "      <td>44</td>\n",
       "      <td>6</td>\n",
       "      <td>1</td>\n",
       "      <td>2</td>\n",
       "      <td>8256.0</td>\n",
       "      <td>864</td>\n",
       "      <td>7392.0</td>\n",
       "      <td>...</td>\n",
       "      <td>3.714</td>\n",
       "      <td>0.105</td>\n",
       "      <td>0.000057</td>\n",
       "      <td>1</td>\n",
       "      <td>0</td>\n",
       "      <td>2</td>\n",
       "      <td>2</td>\n",
       "      <td>4</td>\n",
       "      <td>0</td>\n",
       "      <td>1</td>\n",
       "    </tr>\n",
       "    <tr>\n",
       "      <th>2</th>\n",
       "      <td>713982108</td>\n",
       "      <td>51</td>\n",
       "      <td>3</td>\n",
       "      <td>36</td>\n",
       "      <td>4</td>\n",
       "      <td>1</td>\n",
       "      <td>0</td>\n",
       "      <td>3418.0</td>\n",
       "      <td>0</td>\n",
       "      <td>3418.0</td>\n",
       "      <td>...</td>\n",
       "      <td>2.333</td>\n",
       "      <td>0.000</td>\n",
       "      <td>0.000021</td>\n",
       "      <td>1</td>\n",
       "      <td>1</td>\n",
       "      <td>2</td>\n",
       "      <td>1</td>\n",
       "      <td>3</td>\n",
       "      <td>0</td>\n",
       "      <td>1</td>\n",
       "    </tr>\n",
       "    <tr>\n",
       "      <th>3</th>\n",
       "      <td>769911858</td>\n",
       "      <td>40</td>\n",
       "      <td>4</td>\n",
       "      <td>34</td>\n",
       "      <td>3</td>\n",
       "      <td>4</td>\n",
       "      <td>1</td>\n",
       "      <td>3313.0</td>\n",
       "      <td>2517</td>\n",
       "      <td>796.0</td>\n",
       "      <td>...</td>\n",
       "      <td>2.333</td>\n",
       "      <td>0.760</td>\n",
       "      <td>0.000134</td>\n",
       "      <td>1</td>\n",
       "      <td>0</td>\n",
       "      <td>3</td>\n",
       "      <td>3</td>\n",
       "      <td>4</td>\n",
       "      <td>0</td>\n",
       "      <td>1</td>\n",
       "    </tr>\n",
       "    <tr>\n",
       "      <th>4</th>\n",
       "      <td>709106358</td>\n",
       "      <td>40</td>\n",
       "      <td>3</td>\n",
       "      <td>21</td>\n",
       "      <td>5</td>\n",
       "      <td>1</td>\n",
       "      <td>0</td>\n",
       "      <td>4716.0</td>\n",
       "      <td>0</td>\n",
       "      <td>4716.0</td>\n",
       "      <td>...</td>\n",
       "      <td>2.500</td>\n",
       "      <td>0.000</td>\n",
       "      <td>0.000022</td>\n",
       "      <td>1</td>\n",
       "      <td>1</td>\n",
       "      <td>5</td>\n",
       "      <td>1</td>\n",
       "      <td>2</td>\n",
       "      <td>0</td>\n",
       "      <td>1</td>\n",
       "    </tr>\n",
       "  </tbody>\n",
       "</table>\n",
       "<p>5 rows × 23 columns</p>\n",
       "</div>"
      ],
      "text/plain": [
       "   CLIENTNUM  Customer_Age  Dependent_count  Months_on_book  \\\n",
       "0  768805383            45                3              39   \n",
       "1  818770008            49                5              44   \n",
       "2  713982108            51                3              36   \n",
       "3  769911858            40                4              34   \n",
       "4  709106358            40                3              21   \n",
       "\n",
       "   Total_Relationship_Count  Months_Inactive_12_mon  Contacts_Count_12_mon  \\\n",
       "0                         5                       1                      3   \n",
       "1                         6                       1                      2   \n",
       "2                         4                       1                      0   \n",
       "3                         3                       4                      1   \n",
       "4                         5                       1                      0   \n",
       "\n",
       "   Credit_Limit  Total_Revolving_Bal  Avg_Open_To_Buy  ...  \\\n",
       "0       12691.0                  777          11914.0  ...   \n",
       "1        8256.0                  864           7392.0  ...   \n",
       "2        3418.0                    0           3418.0  ...   \n",
       "3        3313.0                 2517            796.0  ...   \n",
       "4        4716.0                    0           4716.0  ...   \n",
       "\n",
       "   Total_Ct_Chng_Q4_Q1  Avg_Utilization_Ratio  Naive_Bayes_Classifier  \\\n",
       "0                1.625                  0.061                0.000093   \n",
       "1                3.714                  0.105                0.000057   \n",
       "2                2.333                  0.000                0.000021   \n",
       "3                2.333                  0.760                0.000134   \n",
       "4                2.500                  0.000                0.000022   \n",
       "\n",
       "   Attrition_Flag  Gender  Education_Level  Marital_Status  Income_Category  \\\n",
       "0               1       1                3               1                2   \n",
       "1               1       0                2               2                4   \n",
       "2               1       1                2               1                3   \n",
       "3               1       0                3               3                4   \n",
       "4               1       1                5               1                2   \n",
       "\n",
       "   Card_Category  classification  \n",
       "0              0               1  \n",
       "1              0               1  \n",
       "2              0               1  \n",
       "3              0               1  \n",
       "4              0               1  \n",
       "\n",
       "[5 rows x 23 columns]"
      ]
     },
     "execution_count": 49,
     "metadata": {},
     "output_type": "execute_result"
    }
   ],
   "source": [
    "\n",
    "#separate them in two dataframes\n",
    "numerical = dataset.select_dtypes(exclude=['object','bool'])\n",
    "categorical = dataset.select_dtypes (include=['object','bool'])\n",
    "\n",
    "\n",
    "numerical.head()\n",
    "\n",
    "categorical.head()\n",
    "\n",
    "le= preprocessing.LabelEncoder()\n",
    "label_encoded_categorical = categorical.apply(le.fit_transform)\n",
    "label_encoded_categorical.head()\n",
    "\n",
    "#combine them again by concatenation func\n",
    "df=pd.concat([numerical, label_encoded_categorical], axis=1)\n",
    "df.head()\n"
   ]
  },
  {
   "cell_type": "code",
   "execution_count": 43,
   "id": "6f98406c",
   "metadata": {},
   "outputs": [
    {
     "data": {
      "text/plain": [
       "array([[-0.7312455 ,  1.67200087, -1.61777923, ...,  0.96569194,\n",
       "         1.56984074, -0.21151394],\n",
       "       [-0.62500133,  1.15845499, -0.08197773, ..., -0.5216101 ,\n",
       "        -1.78830207, -0.21151394],\n",
       "       [ 2.14566641, -2.02552945, -1.61777923, ...,  0.96569194,\n",
       "         0.89821218, -0.21151394],\n",
       "       ...,\n",
       "       [-0.79791761, -0.89572852,  0.68592302, ...,  0.96569194,\n",
       "        -0.44504495, -0.21151394],\n",
       "       [-0.68291196,  1.77471004, -0.08197773, ..., -0.5216101 ,\n",
       "        -1.11667351, -0.21151394],\n",
       "       [-0.73234573,  1.77471004, -0.84987848, ..., -0.5216101 ,\n",
       "         0.89821218, -0.21151394]])"
      ]
     },
     "execution_count": 43,
     "metadata": {},
     "output_type": "execute_result"
    }
   ],
   "source": [
    "#feature selection\n",
    "x= df.drop(['classification'], axis=1)\n",
    "y= df.classification\n",
    "\n",
    "#split_dataset_into_test_and_train\n",
    "X_train, X_test, y_train, y_test = train_test_split(x, y,\n",
    "    test_size=0.20, shuffle = True, random_state = 2)\n",
    "sc = StandardScaler()\n",
    "X_train = sc.fit_transform(X_train)\n",
    "X_test = sc.transform(X_test)\n",
    "\n",
    "X_train\n",
    "X_test\n"
   ]
  },
  {
   "cell_type": "code",
   "execution_count": 50,
   "id": "16842743",
   "metadata": {},
   "outputs": [
    {
     "name": "stdout",
     "output_type": "stream",
     "text": [
      "Accuracy Score is :  0.975\n"
     ]
    }
   ],
   "source": [
    "SVCModel = SVC(C=0.2, kernel='linear', degree=19, gamma='auto', shrinking=False,\n",
    "                probability=True, tol=0.001, cache_size=200, class_weight=None,verbose=False,\n",
    "                max_iter=-1, random_state =40\n",
    ")\n",
    "SVCModel.fit(X_train, y_train) # train\n",
    "\n",
    "y_pred = SVCModel.predict(X_test) # validate\n",
    "\n",
    "AccScore = accuracy_score(y_test, y_pred) \n",
    "print('Accuracy Score is : ', AccScore)\n"
   ]
  },
  {
   "cell_type": "code",
   "execution_count": 51,
   "id": "26aa6b39",
   "metadata": {},
   "outputs": [
    {
     "name": "stdout",
     "output_type": "stream",
     "text": [
      "[[ 35   1]\n",
      " [ 14 550]]\n",
      "              precision    recall  f1-score   support\n",
      "\n",
      "           0       0.71      0.97      0.82        36\n",
      "           1       1.00      0.98      0.99       564\n",
      "\n",
      "    accuracy                           0.97       600\n",
      "   macro avg       0.86      0.97      0.91       600\n",
      "weighted avg       0.98      0.97      0.98       600\n",
      "\n"
     ]
    },
    {
     "data": {
      "image/png": "[encoded data removed]",
      "text/plain": [
       "<Figure size 640x480 with 2 Axes>"
      ]
     },
     "metadata": {},
     "output_type": "display_data"
    }
   ],
   "source": [
    "cm=confusion_matrix(y_test, y_pred)\n",
    "print(confusion_matrix(y_test, y_pred))\n",
    "print(classification_report(y_test, y_pred))\n",
    "# drawing confusion matrix\n",
    "sns.heatmap(cm, center = True)\n",
    "plt.show()\n"
   ]
  },
  {
   "cell_type": "code",
   "execution_count": 52,
   "id": "b4aea7c9",
   "metadata": {},
   "outputs": [
    {
     "name": "stdout",
     "output_type": "stream",
     "text": [
      "f1-score is : 0.9865470852017937\n",
      "Recall Score is :  0.975177304964539\n",
      "Precision Score is :  0.9981851179673321\n",
      "Accuracy Score is :  0.975\n"
     ]
    }
   ],
   "source": [
    "\n",
    "fscore=f1_score(y_test, y_pred)\n",
    "print('f1-score is :',fscore)\n",
    "\n",
    "#Calculating Recall Score : (Sensitivity) (TP / float(TP + FN))   1 / 1+2  \n",
    "#recall_score(y_test, y_pred, labels=None, pos_label=1, average='binary', sample_weight=None)\n",
    "\n",
    "RecallScore = recall_score(y_test, y_pred) #it can be : binary,macro,weighted,samples\n",
    "print('Recall Score is : ', RecallScore)\n",
    "\n",
    "#Calculating Precision Score : (Specificity) #(TP / float(TP + FP))  \n",
    "#precision_score(y_test, y_pred, labels=None, pos_label=1, average='binary',sample_weight=None)\n",
    "\n",
    "PrecisionScore = precision_score(y_test, y_pred) #it can be : binary,macro,weighted,samples\n",
    "print('Precision Score is : ', PrecisionScore)\n",
    "\n",
    "AccScore = accuracy_score(y_test, y_pred)\n",
    "print('Accuracy Score is : ', AccScore)\n"
   ]
  },
  {
   "cell_type": "code",
   "execution_count": 53,
   "id": "3c347845",
   "metadata": {},
   "outputs": [
    {
     "name": "stdout",
     "output_type": "stream",
     "text": [
      "AUC Value  :  0.9736997635933806\n"
     ]
    },
    {
     "data": {
      "image/png": "[encoded data removed]",
      "text/plain": [
       "<Figure size 500x500 with 1 Axes>"
      ]
     },
     "metadata": {},
     "output_type": "display_data"
    }
   ],
   "source": [
    "#Calculating ROC:  \n",
    "#roc_curve(y_test, y_pred, pos_label=None, sample_weight=None,drop_intermediate=True)\n",
    "#Calculating ROC AUC Score:  \n",
    "#roc_auc_score(y_true, y_score, average=’macro’, sample_weight=None,max_fpr=None)\n",
    "\n",
    "#ROCAUCScore = roc_auc_score(y_test,y_pred, average='micro') #it can be : macro,weighted,samples\n",
    "#print('ROCAUC Score : ', ROCAUCScore)\n",
    "fprValue, tprValue, thresholdsValue = roc_curve(y_test,y_pred)\n",
    "AUCValue = auc(fprValue, tprValue)\n",
    "#Calculating Area Under the Curve AUC : \n",
    "print('AUC Value  : ', AUCValue)\n",
    "plt.show()\n",
    "plt.figure(figsize=(5, 5), dpi=100)\n",
    "plt.plot(fprValue,tprValue, marker='.', label='SVC (auc = %0.2f)' % AUCValue)\n",
    "plt.legend()\n",
    "plt.show()\n"
   ]
  },
  {
   "cell_type": "code",
   "execution_count": 54,
   "id": "ba3bb44f",
   "metadata": {},
   "outputs": [
    {
     "name": "stdout",
     "output_type": "stream",
     "text": [
      "[0.32515680834964966, 0.22882574852389684, 0.17238418932663252, 0.1393549833200505, 0.1190633764861949, 0.10598841480858051, 0.09702161909801739, 0.09023544110288516, 0.08541571484862616, 0.0813562896331108, 0.07787387456392195, 0.07520076383135856, 0.07271456064658795]\n"
     ]
    },
    {
     "data": {
      "image/png": "[encoded data removed]",
      "text/plain": [
       "<Figure size 640x480 with 1 Axes>"
      ]
     },
     "metadata": {},
     "output_type": "display_data"
    }
   ],
   "source": [
    "\n",
    "SVCModel = MLPClassifier(#hidden_layer_sizes=(32, 32),\n",
    "              activation='relu',\n",
    "              solver='adam',\n",
    "              learning_rate='adaptive',\n",
    "              early_stopping=True)\n",
    "SVCModel.fit(X_train,y_train)\n",
    "test_acc = accuracy_score(y_test, y_pred) * 100.\n",
    "loss_values = SVCModel.loss_curve_\n",
    "print (loss_values)\n",
    "plt.plot(loss_values,label='loss curve')\n",
    "plt.legend()\n",
    "plt.show()"
   ]
  },
  {
   "cell_type": "code",
   "execution_count": 55,
   "id": "4cf3e31e",
   "metadata": {},
   "outputs": [
    {
     "name": "stderr",
     "output_type": "stream",
     "text": [
      "C:\\Users\\Ziad Mazhar\\AppData\\Local\\Temp\\ipykernel_2612\\1305707256.py:5: FutureWarning: The default value of numeric_only in DataFrame.corr is deprecated. In a future version, it will default to False. Select only valid columns or specify the value of numeric_only to silence this warning.\n",
      "  cax = ax.matshow(dataset.corr(), vmin=-1, vmax=1, interpolation='none' )\n"
     ]
    },
    {
     "data": {
      "image/png": "[encoded data removed]",
      "text/plain": [
       "<Figure size 640x480 with 2 Axes>"
      ]
     },
     "metadata": {},
     "output_type": "display_data"
    }
   ],
   "source": [
    "from matplotlib import pyplot\n",
    "#correlation between features\n",
    "fig = pyplot.figure()\n",
    "ax = fig.add_subplot(111)\n",
    "cax = ax.matshow(dataset.corr(), vmin=-1, vmax=1, interpolation='none' )\n",
    "fig.colorbar(cax)\n",
    "pyplot.show()"
   ]
  }
 ],
 "metadata": {
  "kernelspec": {
   "display_name": "tf",
   "language": "python",
   "name": "python3"
  },
  "language_info": {
   "codemirror_mode": {
    "name": "ipython",
    "version": 3
   },
   "file_extension": ".py",
   "mimetype": "text/x-python",
   "name": "python",
   "nbconvert_exporter": "python",
   "pygments_lexer": "ipython3",
   "version": "3.10.8"
  },
  "vscode": {
   "interpreter": {
    "hash": "fb85c7f86af75c9f9a75d326b3759cccb42634743d00fca37533ed8c16db3929"
   }
  }
 },
 "nbformat": 4,
 "nbformat_minor": 5
}
